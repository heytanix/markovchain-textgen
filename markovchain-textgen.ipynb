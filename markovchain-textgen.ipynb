{
 "cells": [
  {
   "cell_type": "markdown",
   "id": "93bb20ac-125a-4054-a617-0baa3b2b5526",
   "metadata": {},
   "source": [
    "# Task 3: Text Generation(Markov Chains)"
   ]
  },
  {
   "cell_type": "markdown",
   "id": "5601ee69-f6c2-4a72-ae07-d5cce34ea17c",
   "metadata": {},
   "source": [
    "### Importing the needed libraries"
   ]
  },
  {
   "cell_type": "code",
   "execution_count": 22,
   "id": "2a32524a-82b9-45f7-94cd-cbcf294a7189",
   "metadata": {},
   "outputs": [],
   "source": [
    "import random\n",
    "from collections import defaultdict"
   ]
  },
  {
   "cell_type": "markdown",
   "id": "7ceade93-20c0-4bc8-8415-fc07f9aab59a",
   "metadata": {},
   "source": [
    "### Defining a paragraph to build the model"
   ]
  },
  {
   "cell_type": "code",
   "execution_count": 23,
   "id": "0e4354c1-ce04-4426-a3e3-c15a97fb3987",
   "metadata": {},
   "outputs": [],
   "source": [
    "building_text = \"\"\"\n",
    "The sun dipped below the horizon,\n",
    "casting a warm golden glow over the tranquil lake.\n",
    "The water shimmered like a thousand diamonds,\n",
    "reflecting the hues of orange and pink that painted the sky.\n",
    "A gentle breeze rustled the leaves of the nearby trees,\n",
    "creating a soothing melody that echoed through the quiet evening.\n",
    "In that moment, time seemed to stand still,\n",
    "inviting anyone who witnessed it to pause and appreciate the beauty of nature.\n",
    "\"\"\""
   ]
  },
  {
   "cell_type": "markdown",
   "id": "7797981b-0dd6-4f08-b1c1-6219f2967bf6",
   "metadata": {},
   "source": [
    "### Defining a function to build the Markov Chain"
   ]
  },
  {
   "cell_type": "code",
   "execution_count": 24,
   "id": "abecfaad-e55a-402d-9507-d52999fe9e23",
   "metadata": {},
   "outputs": [],
   "source": [
    "def build_markov_chain(text):\n",
    "    words = text.split()\n",
    "    markov_chain = defaultdict(list)\n",
    "    \n",
    "    #Looping through the words and map each word to the word following it\n",
    "    for i in range(len(words) - 1):\n",
    "        curr_word = words[i]\n",
    "        next_word = words[i + 1]\n",
    "        markov_chain[curr_word].append(next_word)\n",
    "        \n",
    "    return markov_chain"
   ]
  },
  {
   "cell_type": "markdown",
   "id": "740bfd2d-b889-47a9-9db5-6fbed253ff3f",
   "metadata": {},
   "source": [
    "### Defining a function for generating the text from the created Markov Chain"
   ]
  },
  {
   "cell_type": "code",
   "execution_count": 25,
   "id": "6b1e7785-5756-4197-a146-7bbd96df8fea",
   "metadata": {},
   "outputs": [],
   "source": [
    "def generate_text(chain, start_word, num_words=100):\n",
    "    if start_word not in chain:\n",
    "        print(f\"Start word '{start_word}' not found in chain.\")\n",
    "        return \"\"\n",
    "    \n",
    "    current_word = start_word\n",
    "    output = [current_word]\n",
    "    \n",
    "    for _ in range(num_words - 1):\n",
    "        next_words = chain.get(current_word, [])\n",
    "        if not next_words:\n",
    "            break\n",
    "        current_word = random.choice(next_words)\n",
    "        output.append(current_word)\n",
    "    \n",
    "    return ' '.join(output)"
   ]
  },
  {
   "cell_type": "markdown",
   "id": "59f69f42-d3ab-463b-852d-b633f22b9edb",
   "metadata": {},
   "source": [
    "### Obtaining output (Building Chain-function call, Defining start words,number of words-function call)"
   ]
  },
  {
   "cell_type": "code",
   "execution_count": 26,
   "id": "4e7104af-04c5-4f4e-b51d-f9fd2012804e",
   "metadata": {},
   "outputs": [
    {
     "name": "stdout",
     "output_type": "stream",
     "text": [
      "Generated Sentence:\n",
      " sun dipped below the hues of orange and appreciate the quiet evening. In that moment,\n"
     ]
    }
   ],
   "source": [
    "#Building the Markov chain from paragraph text(building_text)\n",
    "markov_model = build_markov_chain(building_text)\n",
    "\n",
    "#Generating text starting from a chosen word(Any word in the building_text paragraph)\n",
    "generated_sentence = generate_text(markov_model, start_word=\"sun\", num_words=15)\n",
    "\n",
    "print(\"Generated Sentence:\\n\", generated_sentence)"
   ]
  },
  {
   "cell_type": "code",
   "execution_count": null,
   "id": "8c023cfa-6451-44bd-8f3e-e19adfbc6ab3",
   "metadata": {},
   "outputs": [],
   "source": []
  }
 ],
 "metadata": {
  "kernelspec": {
   "display_name": "Python 3 (ipykernel)",
   "language": "python",
   "name": "python3"
  },
  "language_info": {
   "codemirror_mode": {
    "name": "ipython",
    "version": 3
   },
   "file_extension": ".py",
   "mimetype": "text/x-python",
   "name": "python",
   "nbconvert_exporter": "python",
   "pygments_lexer": "ipython3",
   "version": "3.13.3"
  }
 },
 "nbformat": 4,
 "nbformat_minor": 5
}
