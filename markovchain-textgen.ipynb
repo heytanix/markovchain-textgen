{
 "cells": [
  {
   "cell_type": "markdown",
   "id": "93bb20ac-125a-4054-a617-0baa3b2b5526",
   "metadata": {},
   "source": [
    "# Text Generation Using First-Order Markov Chains"
   ]
  },
  {
   "cell_type": "markdown",
   "id": "5601ee69-f6c2-4a72-ae07-d5cce34ea17c",
   "metadata": {},
   "source": [
    "## Step 1: Importing Necessary Libraries\n",
    "\n",
    "To build our Markov chain model, we need a couple of tools from Python's standard library.\n",
    "\n",
    "* `random`: This library is essential for the text generation phase. When a word has multiple possible words that can follow it, `random.choice()` will help us pick one at random.\n",
    "* `collections.defaultdict`: This is a specialized dictionary. It simplifies our code by automatically creating a default value (in our case, an empty list) for any key that we try to access but doesn't exist yet. This is perfect for adding new words to our chain."
   ]
  },
  {
   "cell_type": "code",
   "execution_count": null,
   "id": "bc43dbd3-fe78-4922-891a-4a458558684b",
   "metadata": {},
   "outputs": [],
   "source": [
    "!pip install requirements.txt"
   ]
  },
  {
   "cell_type": "code",
   "execution_count": 22,
   "id": "2a32524a-82b9-45f7-94cd-cbcf294a7189",
   "metadata": {},
   "outputs": [],
   "source": [
    "import random\n",
    "from collections import defaultdict"
   ]
  },
  {
   "cell_type": "markdown",
   "id": "7ceade93-20c0-4bc8-8415-fc07f9aab59a",
   "metadata": {},
   "source": [
    "## Step 2: Defining the Corpus\n",
    "\n",
    "Every language model needs data to learn from. The text below, `building_text`, will serve as our **corpus**. The model will analyze this paragraph to understand the relationships between consecutive words. The structure, tone, and vocabulary of this corpus will directly influence the generated output. A larger and more diverse corpus would result in more varied and coherent generated text."
   ]
  },
  {
   "cell_type": "code",
   "execution_count": 23,
   "id": "0e4354c1-ce04-4426-a3e3-c15a97fb3987",
   "metadata": {},
   "outputs": [],
   "source": [
    "building_text = \"\"\"\n",
    "The sun dipped below the horizon,\n",
    "casting a warm golden glow over the tranquil lake.\n",
    "The water shimmered like a thousand diamonds,\n",
    "reflecting the hues of orange and pink that painted the sky.\n",
    "A gentle breeze rustled the leaves of the nearby trees,\n",
    "creating a soothing melody that echoed through the quiet evening.\n",
    "In that moment, time seemed to stand still,\n",
    "inviting anyone who witnessed it to pause and appreciate the beauty of nature.\n",
    "\"\"\""
   ]
  },
  {
   "cell_type": "markdown",
   "id": "7797981b-0dd6-4f08-b1c1-6219f2967bf6",
   "metadata": {},
   "source": [
    "## Step 3: Building the Markov Chain Model\n",
    "\n",
    "This is the core of our model. The `build_markov_chain` function takes the corpus text and transforms it into a structured data format that represents the Markov chain.\n",
    "\n",
    "Here's how it works:\n",
    "1.  The input text is split into a list of individual words (tokens).\n",
    "2.  A `defaultdict` is initialized to store the chain.\n",
    "3.  The function iterates through the list of words, looking at each word (`curr_word`) and the word that immediately follows it (`next_word`).\n",
    "4.  It then populates the dictionary, using the current word as a key and appending the next word to the list of its possible followers.\n",
    "\n",
    "For example, given the phrase \"The sun dipped...\", the model creates an entry: `{\"sun\": [\"dipped\"]}`."
   ]
  },
  {
   "cell_type": "code",
   "execution_count": 24,
   "id": "abecfaad-e55a-402d-9507-d52999fe9e23",
   "metadata": {},
   "outputs": [],
   "source": [
    "def build_markov_chain(text):\n",
    "    words = text.split()\n",
    "    markov_chain = defaultdict(list)\n",
    "    \n",
    "    #Looping through the words and map each word to the word following it\n",
    "    for i in range(len(words) - 1):\n",
    "        curr_word = words[i]\n",
    "        next_word = words[i + 1]\n",
    "        markov_chain[curr_word].append(next_word)\n",
    "        \n",
    "    return markov_chain"
   ]
  },
  {
   "cell_type": "markdown",
   "id": "740bfd2d-b889-47a9-9db5-6fbed253ff3f",
   "metadata": {},
   "source": [
    "## Step 4: Defining the Text Generation Function\n",
    "\n",
    "Once the Markov chain is built, we need a function to generate new text from it. The `generate_text` function handles this process.\n",
    "\n",
    "Its logic is as follows:\n",
    "1.  It starts with a given `start_word`.\n",
    "2.  It enters a loop that runs for the desired number of words (`num_words`).\n",
    "3.  In each iteration, it looks up the `current_word` in our Markov chain dictionary to get the list of possible next words.\n",
    "4.  If no followers exist (i.e., the word was at the end of the corpus), the generation stops.\n",
    "5.  Otherwise, it uses `random.choice()` to select one of the next words. This selected word becomes the `current_word` for the next loop iteration.\n",
    "6.  Each chosen word is added to an output list, which is finally joined into a single string."
   ]
  },
  {
   "cell_type": "code",
   "execution_count": 25,
   "id": "6b1e7785-5756-4197-a146-7bbd96df8fea",
   "metadata": {},
   "outputs": [],
   "source": [
    "def generate_text(chain, start_word, num_words=100):\n",
    "    if start_word not in chain:\n",
    "        print(f\"Start word '{start_word}' not found in chain.\")\n",
    "        return \"\"\n",
    "    \n",
    "    current_word = start_word\n",
    "    output = [current_word]\n",
    "    \n",
    "    for _ in range(num_words - 1):\n",
    "        next_words = chain.get(current_word, [])\n",
    "        if not next_words:\n",
    "            break\n",
    "        current_word = random.choice(next_words)\n",
    "        output.append(current_word)\n",
    "    \n",
    "    return ' '.join(output)"
   ]
  },
  {
   "cell_type": "markdown",
   "id": "59f69f42-d3ab-463b-852d-b633f22b9edb",
   "metadata": {},
   "source": [
    "## Step 5: Generating the Final Output\n",
    "\n",
    "Now it's time to put everything together and see the result.\n",
    "\n",
    "1.  **Build the Model**: We first call `build_markov_chain()` with our corpus (`building_text`) to create the `markov_model`.\n",
    "2.  **Set Parameters**: We choose a `start_word` (which must exist in the original text) and set the desired length of the output with `num_words`.\n",
    "3.  **Generate Text**: We call the `generate_text()` function with the model and our parameters.\n",
    "4.  **Print the Result**: The final generated sentence is printed.\n",
    "\n",
    "Because the process involves random choices, you will likely get a different (and often nonsensical) sentence each time you run the final cell!"
   ]
  },
  {
   "cell_type": "code",
   "execution_count": 26,
   "id": "4e7104af-04c5-4f4e-b51d-f9fd2012804e",
   "metadata": {},
   "outputs": [
    {
     "name": "stdout",
     "output_type": "stream",
     "text": [
      "Generated Sentence:\n",
      " sun dipped below the hues of orange and appreciate the quiet evening. In that moment,\n"
     ]
    }
   ],
   "source": [
    "#Building the Markov chain from paragraph text(building_text)\n",
    "markov_model = build_markov_chain(building_text)\n",
    "\n",
    "#Generating text starting from a chosen word(Any word in the building_text paragraph)\n",
    "generated_sentence = generate_text(markov_model, start_word=\"sun\", num_words=15)\n",
    "\n",
    "print(\"Generated Sentence:\\n\", generated_sentence)"
   ]
  }
 ],
 "metadata": {
  "kernelspec": {
   "display_name": "Python 3 (ipykernel)",
   "language": "python",
   "name": "python3"
  },
  "language_info": {
   "codemirror_mode": {
    "name": "ipython",
    "version": 3
   },
   "file_extension": ".py",
   "mimetype": "text/x-python",
   "name": "python",
   "nbconvert_exporter": "python",
   "pygments_lexer": "ipython3",
   "version": "3.13.3"
  }
 },
 "nbformat": 4,
 "nbformat_minor": 5
}
